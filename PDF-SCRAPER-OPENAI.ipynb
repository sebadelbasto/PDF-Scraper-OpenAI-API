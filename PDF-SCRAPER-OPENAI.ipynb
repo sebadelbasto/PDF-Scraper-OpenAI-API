{
 "cells": [
  {
   "cell_type": "code",
   "execution_count": null,
   "metadata": {},
   "outputs": [],
   "source": [
    "!{sys.executable} -m pip install PyPDF2\n",
    "!{sys.executable} -m pip install pdfminer\n",
    "!{sys.executable} -m pip install openai"
   ]
  },
  {
   "cell_type": "code",
   "execution_count": null,
   "metadata": {},
   "outputs": [],
   "source": [
    "from PyPDF2 import PdfFileWriter, PdfFileReader"
   ]
  },
  {
   "cell_type": "code",
   "execution_count": null,
   "metadata": {},
   "outputs": [],
   "source": [
    "import glob\n",
    "import os\n",
    "\n",
    "def merger(output_path, input_paths):\n",
    "    pdf_writer = PdfFileWriter()\n",
    "    for path in input_paths:\n",
    "        pdf_reader = PdfFileReader(path)\n",
    "        for page in range(pdf_reader.getNumPages()):\n",
    "            pdf_writer.addPage(pdf_reader.getPage(page))\n",
    "    with open(output_path, 'wb') as fh:\n",
    "        pdf_writer.write(fh)\n",
    "\n",
    "if __name__ == '__main__':\n",
    "\n",
    "    paths = glob.glob('path...*.pdf')\n",
    "    paths.sort()\n",
    "    merger('path...pdf_merged.pdf', paths)\n",
    "    print(\"Done, PDF Merged successfully..\")"
   ]
  },
  {
   "cell_type": "code",
   "execution_count": null,
   "metadata": {},
   "outputs": [],
   "source": [
    "#Solution based in two functions:\n",
    "#1.pdf remove : Remove existed pdf documents(result for your last split operation)\n",
    "#2.pdf splitter : Split your main pdf document into group of documents.\n",
    "\n",
    "\n",
    "def pdf_remove (length):\n",
    " for i in range(length): \n",
    "        os.remove(\"...path../split/{}\".format(fname[i])) #Remove existed pdf documents in folder.\n",
    "        print(\"Deleted: ../PDFs-TextExtract/split/{}\".format(fname[i]))\n",
    "\n",
    "def pdf_splitter(path):\n",
    "    fname = os.path.splitext(os.path.basename(path))[0]\n",
    "    pdf = PdfFileReader(path)\n",
    "    for page in range(pdf.getNumPages()):\n",
    "        pdf_writer = PdfFileWriter()\n",
    "        pdf_writer.addPage(pdf.getPage(page))\n",
    " \n",
    "        output_filename = '...path.../split/{}.pdf'.format(page+1)\n",
    " \n",
    "        with open(output_filename, 'wb') as out:\n",
    "            pdf_writer.write(out)\n",
    " \n",
    "        print('Created: {}'.format(output_filename))\n",
    "        \n",
    " \n",
    "if __name__ == '__main__':\n",
    "\n",
    "  path = '...path./pdf_merged.pdf' #specifiy your main pdf document path.\n",
    "  fname = os.listdir('...path.../split/') #fname: List contain pdf documents names in folder\n",
    "  length = len(fname) #Retrieve List fname Length.\n",
    "  \n",
    "  #call pdf remove function\n",
    "  pdf_remove(length) \n",
    "  #call pdf splitter function\n",
    "  pdf_splitter(path) "
   ]
  },
  {
   "cell_type": "code",
   "execution_count": null,
   "metadata": {},
   "outputs": [],
   "source": [
    "import os\n",
    "import sys\n",
    "import re\n",
    "from pdfminer.pdfinterp import PDFResourceManager, PDFPageInterpreter\n",
    "from pdfminer.converter import TextConverter\n",
    "from pdfminer.layout import LAParams\n",
    "from pdfminer.pdfpage import PDFPage\n",
    "from io import BytesIO"
   ]
  },
  {
   "cell_type": "code",
   "execution_count": null,
   "metadata": {},
   "outputs": [],
   "source": [
    "def clear_text():\n",
    "   open(\"...path.../output/Output.txt\", \"w\").close()\n",
    "   \n",
    "#writelines function\n",
    "def writelines(self, lines):\n",
    "    self._checkClosed()\n",
    "    for line in lines:\n",
    "       self.write(line)\n",
    "\n",
    "#PDF to text Function. \n",
    "def pdf_to_text(path):\n",
    "    manager = PDFResourceManager()\n",
    "    retstr = BytesIO()\n",
    "    layout = LAParams(all_texts=True)\n",
    "    device = TextConverter(manager, retstr, laparams=layout)\n",
    "    filepath = open(path, 'rb')\n",
    "    interpreter = PDFPageInterpreter(manager, device)\n",
    "\n",
    "    for page in PDFPage.get_pages(filepath, check_extractable=True):\n",
    "        interpreter.process_page(page)\n",
    "\n",
    "    text = retstr.getvalue()\n",
    "    filepath.close()\n",
    "    device.close()\n",
    "    retstr.close()\n",
    "    return text\n",
    "\n",
    "\n",
    "if __name__ == \"__main__\":\n",
    "\n",
    " clear_text()\n",
    " fname = os.listdir('...path.../split/') #fname : List contain pdf documents names.\n",
    " #fname: must be sorted.\n",
    " fname.sort(key=lambda f: int(re.sub('\\D', '', f)))\n",
    " length = len(fname) \n",
    "\n",
    "\n",
    " for i in range(length): #Repeat each operation for each document.\n",
    "\n",
    "     text_output = pdf_to_text(('...path.../split/{}').format(fname[i])) #Extract text with PDF_to_text Function call\n",
    "     text1_output = text_output.decode(\"utf-8\")     #Decode result from bytes to text\n",
    "     print(text1_output)\n",
    "\n",
    "    \n",
    "      #Save extracted text to TEXT_FILE    \n",
    "     with open(\"...path.../output/Output.txt\", \"a\", encoding=\"utf-8\") as text_file:\n",
    "       text_file.writelines(text1_output)"
   ]
  },
  {
   "cell_type": "code",
   "execution_count": null,
   "metadata": {},
   "outputs": [],
   "source": [
    "with open('...path...//output/name.txt') as f:\n",
    "    x = f.read()"
   ]
  },
  {
   "cell_type": "code",
   "execution_count": null,
   "metadata": {},
   "outputs": [],
   "source": [
    "import os\n",
    "import openai\n",
    "\n",
    "openai.api_key = ('token_number')\n",
    "\n",
    "response = openai.Completion.create(\n",
    "  model=\"text-davinci-002\",\n",
    "  prompt=\"A table summarizing the Investment Report:\\n\\n{x}\\n\\n| Fund name | Strategy | Investment Manager | Trustee | Jurisdiction | Minimun Investment | Distribution | Redemption | Management Fee | Performance Fee | Track Record | Target Return | Team Information |\",\n",
    "  temperature=0,\n",
    "  max_tokens=100,\n",
    "  top_p=1.0,\n",
    "  frequency_penalty=0.0,\n",
    "  presence_penalty=0.0\n",
    ")\n",
    "\n",
    "print(response)"
   ]
  }
 ],
 "metadata": {
  "kernelspec": {
   "display_name": "Python 3.10.6 64-bit",
   "language": "python",
   "name": "python3"
  },
  "language_info": {
   "name": "python",
   "version": "3.10.6"
  },
  "orig_nbformat": 4,
  "vscode": {
   "interpreter": {
    "hash": "b0fa6594d8f4cbf19f97940f81e996739fb7646882a419484c72d19e05852a7e"
   }
  }
 },
 "nbformat": 4,
 "nbformat_minor": 2
}
